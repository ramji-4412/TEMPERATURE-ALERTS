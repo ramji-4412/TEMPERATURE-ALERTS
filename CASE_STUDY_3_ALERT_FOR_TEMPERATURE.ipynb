{
  "nbformat": 4,
  "nbformat_minor": 0,
  "metadata": {
    "colab": {
      "provenance": [],
      "authorship_tag": "ABX9TyNytMlTOG/2DGycfxeAbj0z",
      "include_colab_link": true
    },
    "kernelspec": {
      "name": "python3",
      "display_name": "Python 3"
    },
    "language_info": {
      "name": "python"
    }
  },
  "cells": [
    {
      "cell_type": "markdown",
      "metadata": {
        "id": "view-in-github",
        "colab_type": "text"
      },
      "source": [
        "<a href=\"https://colab.research.google.com/github/ramji-4412/TEMPERATURE-ALERTS/blob/main/CASE_STUDY_3_ALERT_FOR_TEMPERATURE.ipynb\" target=\"_parent\"><img src=\"https://colab.research.google.com/assets/colab-badge.svg\" alt=\"Open In Colab\"/></a>"
      ]
    },
    {
      "cell_type": "code",
      "execution_count": null,
      "metadata": {
        "colab": {
          "base_uri": "https://localhost:8080/"
        },
        "id": "0hRgD0bIf6o0",
        "outputId": "3c853cf9-272b-4ed1-f798-07b7f36c1ac7"
      },
      "outputs": [
        {
          "output_type": "stream",
          "name": "stdout",
          "text": [
            "Enter lower temperature limit: 0\n",
            "Enter upper temperature limit: 800\n",
            "Machine is running\n",
            "\n",
            "Temperature is very high for the machine to work\n",
            "\n",
            "Press q to stop the machine or press enter to continue: q\n",
            "Machine stopped\n"
          ]
        }
      ],
      "source": [
        "# Develop a function to monitor temperature and provide alert.\n",
        "\n",
        "import random\n",
        "\n",
        "def Alert(lower,upper):\n",
        "\n",
        "  while(1):\n",
        "    print(\"Machine is running\\n\")\n",
        "    temp = random.randint(lower,upper)\n",
        "    if temp > 500:\n",
        "      print(\"Temperature is very high for the machine to work\\n\")\n",
        "    elif temp < 100:\n",
        "      print(\"Temperature is too low for the machine to work\\n\")\n",
        "    else:\n",
        "      print(\"Temperature is in normal range\\n\")\n",
        "    choice  = input(\"Press q to stop the machine or press enter to continue: \")\n",
        "    if choice == \"q\":\n",
        "      print(\"Machine stopped\")\n",
        "      break\n",
        "\n",
        "low = int(input(\"Enter lower temperature limit: \"))\n",
        "high = int(input(\"Enter upper temperature limit: \"))\n",
        "Alert(low,high)\n"
      ]
    },
    {
      "cell_type": "code",
      "source": [],
      "metadata": {
        "id": "Go3lA9AMlRfl"
      },
      "execution_count": null,
      "outputs": []
    }
  ]
}